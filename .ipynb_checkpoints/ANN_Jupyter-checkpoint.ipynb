{
 "cells": [
  {
   "cell_type": "markdown",
   "metadata": {},
   "source": [
    "### Importing the libraries"
   ]
  },
  {
   "cell_type": "code",
   "execution_count": null,
   "metadata": {},
   "outputs": [],
   "source": [
    "import numpy as np\n",
    "import matplotlib.pyplot as plt\n",
    "import pandas as pd"
   ]
  },
  {
   "cell_type": "markdown",
   "metadata": {},
   "source": [
    "### importing our dataset"
   ]
  },
  {
   "cell_type": "code",
   "execution_count": null,
   "metadata": {},
   "outputs": [],
   "source": [
    "dataset = pd.read_csv('Churn_Modelling.csv')\n",
    "X = dataset.iloc[:, 3:13].values # range 3:13 exculudes 13 if you wrote [3,2] he will take those indecies\n",
    "y = dataset.iloc[:, 13].values"
   ]
  },
  {
   "cell_type": "markdown",
   "metadata": {},
   "source": [
    "### encoding categorical data"
   ]
  },
  {
   "cell_type": "code",
   "execution_count": null,
   "metadata": {},
   "outputs": [],
   "source": [
    "from sklearn.preprocessing import LabelEncoder, OneHotEncoder\n",
    "\n",
    "labelencoder_X_1 = LabelEncoder()\n",
    "X[:, 1] = labelencoder_X_1.fit_transform(X[:, 1])\n",
    "labelencoder_X_2= LabelEncoder()\n",
    "X[:, 2] = labelencoder_X_2.fit_transform(X[:, 2])\n",
    "onehotencoder = OneHotEncoder(categorical_features = [1])\n",
    "X = onehotencoder.fit_transform(X).toarray()\n",
    "X=X[:,1:]"
   ]
  },
  {
   "cell_type": "markdown",
   "metadata": {},
   "source": [
    "### splitting the dataset into training set and test set "
   ]
  },
  {
   "cell_type": "code",
   "execution_count": null,
   "metadata": {},
   "outputs": [],
   "source": [
    "from sklearn.model_selection import train_test_split\n",
    "X_train, X_test, y_train, y_test = train_test_split(X, y, test_size = 0.2, random_state = 0)"
   ]
  },
  {
   "cell_type": "markdown",
   "metadata": {},
   "source": [
    "### feature scaling using standarization"
   ]
  },
  {
   "cell_type": "code",
   "execution_count": null,
   "metadata": {},
   "outputs": [],
   "source": [
    "from sklearn.preprocessing import StandardScaler\n",
    "sc = StandardScaler()\n",
    "X_train = sc.fit_transform(X_train)\n",
    "X_test = sc.transform(X_test)"
   ]
  },
  {
   "cell_type": "markdown",
   "metadata": {},
   "source": [
    "### initializing the ANN"
   ]
  },
  {
   "cell_type": "code",
   "execution_count": null,
   "metadata": {},
   "outputs": [],
   "source": [
    "import keras\n",
    "from tensorflow.keras.models import Sequential\n",
    "from tensorflow.keras.layers import Dense\n",
    "\n",
    "classifier=Sequential()"
   ]
  },
  {
   "cell_type": "markdown",
   "metadata": {},
   "source": [
    "### Adding the input layer "
   ]
  },
  {
   "cell_type": "code",
   "execution_count": null,
   "metadata": {},
   "outputs": [],
   "source": [
    "#Adding the input layer and the first hidden layer kernel intializer intialzies the weights intialy\n",
    "# relu is the reqtifier function\n",
    "# need to define the input in the first layer only\n",
    "classifier.add(Dense(units=6,kernel_initializer='uniform',activation='relu',input_dim=11))"
   ]
  },
  {
   "cell_type": "markdown",
   "metadata": {},
   "source": [
    "### Adding the hidden layer "
   ]
  },
  {
   "cell_type": "code",
   "execution_count": null,
   "metadata": {},
   "outputs": [],
   "source": [
    "classifier.add(Dense(units=6,kernel_initializer='uniform',activation='relu'))"
   ]
  },
  {
   "cell_type": "markdown",
   "metadata": {},
   "source": [
    "### Adding the output layer"
   ]
  },
  {
   "cell_type": "code",
   "execution_count": null,
   "metadata": {},
   "outputs": [],
   "source": [
    "classifier.add(Dense(units=1,kernel_initializer='uniform',activation='sigmoid'))"
   ]
  },
  {
   "cell_type": "markdown",
   "metadata": {},
   "source": [
    "### Compiling our ANN"
   ]
  },
  {
   "cell_type": "code",
   "execution_count": null,
   "metadata": {},
   "outputs": [],
   "source": [
    "# compiling the NN the algorithm u want to use is the optimizer (gradient descent)\n",
    "# here we will use one of the stochastic gradient algorithms and it's name is Adam\n",
    "# loss is the lost function in the gradient algo\n",
    "classifier.compile(optimizer='adam',loss='binary_crossentropy',metrics=['accuracy'])"
   ]
  },
  {
   "cell_type": "markdown",
   "metadata": {},
   "source": [
    "### fitting our ANN"
   ]
  },
  {
   "cell_type": "code",
   "execution_count": null,
   "metadata": {},
   "outputs": [],
   "source": [
    "# Fitting classifier to the Training set\n",
    "# batch size size when to update weights \n",
    "# epochs number of iterations on gradient descenet\n",
    "classifier.fit(X_train,y_train,batch_size=10,epochs=100)"
   ]
  },
  {
   "cell_type": "markdown",
   "metadata": {},
   "source": [
    "### Predicting the Test set results that the customer would leave the bank"
   ]
  },
  {
   "cell_type": "code",
   "execution_count": null,
   "metadata": {},
   "outputs": [],
   "source": [
    "y_pred = classifier.predict(X_test)\n",
    "# Making the Confusion Matrix  to validate our model on the test set \n",
    "# the confusion matrix uses true or false so convert he prob before using the matrix\n",
    "y_pred=(y_pred>0.5)"
   ]
  },
  {
   "cell_type": "markdown",
   "metadata": {},
   "source": [
    "### make a single prediction not from the dataset (new observation)"
   ]
  },
  {
   "cell_type": "code",
   "execution_count": null,
   "metadata": {},
   "outputs": [],
   "source": [
    "\"\"\"\n",
    "Geography: France\n",
    "Credit Score: 600\n",
    "Gender: Male\n",
    "Age: 40 years old\n",
    "Tenure: 3 years\n",
    "Balance: $60000\n",
    "Number of Products: 2\n",
    "Does this customer have a credit card ? Yes\n",
    "Is this customer an Active Member: Yes\n",
    "Estimated Salary: $50000\n",
    "\"\"\"\n",
    "new_prediction =classifier.predict(sc.transform(np.array([[0.0,0,600,1,40,3,60000,2,1,1,50000]]))) # two D array is horizontal one D is vertical \n",
    "new_prediction=(new_prediction>0.5)"
   ]
  },
  {
   "cell_type": "markdown",
   "metadata": {},
   "source": [
    "### evaluting the accuracy of our model "
   ]
  },
  {
   "cell_type": "code",
   "execution_count": null,
   "metadata": {},
   "outputs": [],
   "source": [
    "from sklearn.metrics import confusion_matrix\n",
    "cm = confusion_matrix(y_test, y_pred)"
   ]
  },
  {
   "cell_type": "markdown",
   "metadata": {},
   "source": [
    "### using k-cross validation to get higher accuracy "
   ]
  },
  {
   "cell_type": "code",
   "execution_count": null,
   "metadata": {},
   "outputs": [],
   "source": [
    "import keras\n",
    "from tensorflow.keras.models import Sequential\n",
    "from tensorflow.keras.layers import Dense\n",
    "from tensorflow.keras.layers import Dropout\n",
    "from tensorflow.keras.wrappers.scikit_learn import KerasClassifier\n",
    "# to use two different libraries\n",
    "from sklearn.model_selection import cross_val_score"
   ]
  },
  {
   "cell_type": "markdown",
   "metadata": {},
   "source": [
    "### copy the whole structure of the neural network structure only and put in a function to use it"
   ]
  },
  {
   "cell_type": "code",
   "execution_count": null,
   "metadata": {},
   "outputs": [],
   "source": [
    "def build_classifier():\n",
    "        \n",
    "        # intializing the ANN\n",
    "        classifier=Sequential()\n",
    "        # need to define the input in the first layer only\n",
    "        classifier.add(Dense(units=6,kernel_initializer='uniform',activation='relu',input_dim=11))\n",
    "        classifier.add(Dropout(rate=0.1))\n",
    "        \n",
    "        # first is the fraction of the neurens you want to drop at every iteration is there's ten neuerens and p=0.1 then we will drop 1 neuron\n",
    "        # if the 0.1 didn't solve the overfitting problem then try a higher value \n",
    "        # if you try with a higer value you might end up with under fitting like 0.5 you will drop too much neurons \n",
    "        # the best is to try dropout to all your layers \n",
    "       \n",
    "        # add the next layer \n",
    "        classifier.add(Dense(units=6,kernel_initializer='uniform',activation='relu'))\n",
    "        classifier.add(Dropout(rate=0.1)) \n",
    "      \n",
    "        # adding the output layer\n",
    "        classifier.add(Dense(units=1,kernel_initializer='uniform',activation='sigmoid'))\n",
    "        classifier.add(Dropout(rate=0.1))\n",
    "        \n",
    "        # compiling the NN the algorithm u want to use is the optimizer (gradient descent)\n",
    "        # here we will use one of the stochastic gradient algorithms and it's name is Adam\n",
    "        # loss is the lost function in the gradient algo\n",
    "        classifier.compile(optimizer='adam',loss='binary_crossentropy',metrics=['accuracy'])\n",
    "        return classifier\n"
   ]
  },
  {
   "cell_type": "markdown",
   "metadata": {},
   "source": [
    "### Applying K-cross validation and evaluting the mean and the varaiance and accuracy of our model  "
   ]
  },
  {
   "cell_type": "code",
   "execution_count": null,
   "metadata": {},
   "outputs": [],
   "source": [
    "# first argument is build NN funciton so we but the structure into function\n",
    "# the only differnece between classifiers here and up is the training part only here we use \n",
    "# k cross validation to train our data set \n",
    "classifier=KerasClassifier(build_fn=build_classifier,batch_size=10,epochs=100)\n",
    "# now we are ready to use the k cross validation funciton from scikit library\n",
    "# the k cross validation function will return accuracies on our set in our case here 10\n",
    "# estmiator is the obect to use to fit the data\n",
    "# x is our training set\n",
    "# y is the target variable of the same training set\n",
    "# cv is the number of folds k = what\n",
    "# n jobs click ctrl+i to see it very important\n",
    "# n_jobs=-1 won't work if you don't have your gbu transflow n_jobs make your computation faster (parallel computation)\n",
    "accuracies=cross_val_score(estimator=classifier,X=X_train,y=y_train,cv=10,n_jobs=-1) \n",
    "mean=accuracies.mean()\n",
    "variance=accuracies.std()\n",
    "# standard deviation (is the std())"
   ]
  },
  {
   "cell_type": "markdown",
   "metadata": {},
   "source": [
    "### tuning our model (applying grid search to choose the best possible parameters to get the best accuracy)"
   ]
  },
  {
   "cell_type": "code",
   "execution_count": null,
   "metadata": {},
   "outputs": [],
   "source": [
    "# tunning means het best hypered parameters to choose to get the best accurcy like\n",
    "# tunning means het best hypered parameters to choose to get the best accurcy like\n",
    "# epochs (gradient itrerations), batch size (how many k using k-croos),optimizer (which gradient descent algo),units (the number of neurons in the layer)\n",
    "# so we will use technique (grid search) it will try a combination of those values and returns the best combination to use                                           \n",
    "import keras\n",
    "from tensorflow.keras.models import Sequential\n",
    "from tensorflow.keras.layers import Dense\n",
    "from tensorflow.keras.layers import Dropout\n",
    "from tensorflow.keras.wrappers.scikit_learn import KerasClassifier\n",
    "# to use two different libraries\n",
    "from sklearn.model_selection import GridSearchCV\n",
    "# optimizer a parameter added for tuning different choises\n",
    "def build_classifier(optimizer):\n",
    "        # intializing the ANN\n",
    "        classifier=Sequential()\n",
    "        \n",
    "        # copy the whole structure of the neural network structure only\n",
    "        \n",
    "        # need to define the input in the first layer only\n",
    "        classifier.add(Dense(units=6,kernel_initializer='uniform',activation='relu',input_dim=11))\n",
    "        # first is the fraction of the neurens you want to drop at every iteration is there's ten neuerens and p=0.1 then we will drop 1 neuron\n",
    "        # if the 0.1 didn't solve the overfitting problem then try a higher value \n",
    "        # if you try with a higer value you might end up with under fitting like 0.5 you will drop too much neurons \n",
    "        # the best is to try dropout to all your layers \n",
    "       \n",
    "       \n",
    "        # add the next layer \n",
    "        classifier.add(Dense(units=6,kernel_initializer='uniform',activation='relu'))\n",
    "       \n",
    "        # adding the output layer\n",
    "        classifier.add(Dense(units=1,kernel_initializer='uniform',activation='sigmoid'))\n",
    "        \n",
    "        # compiling the NN the algorithm u want to use is the optimizer (gradient descent)\n",
    "        # here we will use one of the stochastic gradient algorithms and it's name is Adam\n",
    "        # loss is the lost function in the gradient algo\n",
    "        classifier.compile(optimizer=optimizer,loss='binary_crossentropy',metrics=['accuracy'])\n",
    "        return classifier"
   ]
  },
  {
   "cell_type": "markdown",
   "metadata": {},
   "source": [
    "### Applying our grid search to get the best accuracy and the best possible parameters"
   ]
  },
  {
   "cell_type": "code",
   "execution_count": null,
   "metadata": {},
   "outputs": [],
   "source": [
    "# to get the best combination with\n",
    "classifier=KerasClassifier(build_fn=build_classifier)\n",
    "\n",
    "# those numbers to try on batch size based on experience \n",
    "# and also common practise to try some power of 2 like 32\n",
    "# names has to be the same as you used to train your classifier\n",
    "# we tuned two hyper parameters \n",
    "# what if we want to tune teh optimizer it's already given a value (how to input a different value)\n",
    "# create a new parameter in the build classifier function and this argument will give you choice for the optimizer\n",
    "parameters={'batch_size':[25,32]\n",
    "           ,'epochs':[100,500]\n",
    "           ,'optimizer':['adam','rmsprop']\n",
    "          }\n",
    "\n",
    "gridsearch=GridSearchCV(estimator=classifier,param_grid=parameters,scoring='accuracy',cv=10)\n",
    "gridsearch=gridsearch.fit(X_train,y_train)\n",
    "best_param=gridsearch.best_params_\n",
    "best_accuracy=gridsearch.best_score_"
   ]
  }
 ],
 "metadata": {
  "kernelspec": {
   "display_name": "Python 3",
   "language": "python",
   "name": "python3"
  },
  "language_info": {
   "codemirror_mode": {
    "name": "ipython",
    "version": 3
   },
   "file_extension": ".py",
   "mimetype": "text/x-python",
   "name": "python",
   "nbconvert_exporter": "python",
   "pygments_lexer": "ipython3",
   "version": "3.7.4"
  }
 },
 "nbformat": 4,
 "nbformat_minor": 2
}
